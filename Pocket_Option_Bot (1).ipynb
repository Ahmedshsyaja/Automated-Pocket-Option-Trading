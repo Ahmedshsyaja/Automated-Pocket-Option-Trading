{
 "cells": [
  {
   "cell_type": "markdown",
   "id": "b7cc0851-316f-4f72-9c23-c0694df4fdfa",
   "metadata": {},
   "source": [
    "## Libraries"
   ]
  },
  {
   "cell_type": "code",
   "execution_count": 1,
   "id": "31cf4e26-45d8-4882-bfd9-07f5ecc66288",
   "metadata": {},
   "outputs": [],
   "source": [
    "import undetected_chromedriver as uc\n",
    "from selenium.webdriver.common.by import By\n",
    "from selenium.webdriver.support.ui import WebDriverWait\n",
    "from selenium.webdriver.support import expected_conditions as EC\n",
    "from selenium.webdriver.common.keys import Keys\n",
    "import time"
   ]
  },
  {
   "cell_type": "markdown",
   "id": "d1226118-4fa4-4d4d-95bb-b706a0de9b1e",
   "metadata": {},
   "source": [
    "## Page"
   ]
  },
  {
   "cell_type": "code",
   "execution_count": 2,
   "id": "4c4bc26d-e539-4f62-9bc7-ff28cbe5db25",
   "metadata": {},
   "outputs": [],
   "source": [
    "global driver\n",
    "global wait\n",
    "global balance\n",
    "def Open_page():\n",
    "    global driver\n",
    "    driver = uc.Chrome()\n",
    "    try:\n",
    "        url = \"https://pocketoption.com/en/cabinet/demo-quick-high-low/\"\n",
    "        driver.get(url)\n",
    "        time.sleep(5)\n",
    "    except Exception as e:\n",
    "        print(f\"An error occurred: {e}\")\n",
    "    finally:\n",
    "        print(\"Page successfully opened!\")\n"
   ]
  },
  {
   "cell_type": "markdown",
   "id": "47e34005-8b33-4a84-80c8-ad4e0bdb18a8",
   "metadata": {},
   "source": [
    "## Locate the Google Button"
   ]
  },
  {
   "cell_type": "code",
   "execution_count": 3,
   "id": "cc64ffc9-20b9-42ad-b53b-4af2c273035d",
   "metadata": {},
   "outputs": [],
   "source": [
    "def Locate_Button():\n",
    "    global driver\n",
    "    global wait\n",
    "    try:\n",
    "        wait = WebDriverWait(driver, 15)  # Timeout of 15 seconds\n",
    "        google_button = wait.until(EC.element_to_be_clickable((By.XPATH, \"//a[contains(@class, 'social-btn--gp')]\")))\n",
    "        print(\"Login with Google button located.\")\n",
    "        google_button.click()\n",
    "        print(\"Login with Google button clicked!\")\n",
    "        time.sleep(5)\n",
    "    except Exception as e:\n",
    "        print(f\"An error occurred: {e}\")\n",
    "    finally:\n",
    "        print(\"Button_located_clicked_Sucessfully\")\n"
   ]
  },
  {
   "cell_type": "markdown",
   "id": "60784126-2bce-492e-aa20-a1cded28833f",
   "metadata": {},
   "source": [
    "## Fill the E-mail"
   ]
  },
  {
   "cell_type": "code",
   "execution_count": 4,
   "id": "497cf5a8-71d9-46d7-87a8-31053bb15b45",
   "metadata": {},
   "outputs": [],
   "source": [
    "def Fill_E_mail():\n",
    "    global driver\n",
    "    global wait\n",
    "    try:\n",
    "        email_input = wait.until(EC.presence_of_element_located((By.ID, \"identifierId\")))\n",
    "        print(\"Email input located.\")\n",
    "        email_input.clear()\n",
    "        email_input.send_keys(\"Your_Email_Address\")# Your E-mail-Address \n",
    "        email_input.send_keys(Keys.ENTER)\n",
    "        time.sleep(5)\n",
    "        print(\"Email entered.\")\n",
    "    except Exception as e:\n",
    "        print(f\"An error occurred: {e}\")\n",
    "    finally:\n",
    "        print(\"E_Mail_Enter_and_send_sucessfully\")\n"
   ]
  },
  {
   "cell_type": "markdown",
   "id": "326d388b-6b5a-4b1b-9f0f-43778b94d11f",
   "metadata": {},
   "source": [
    "## Send The Password"
   ]
  },
  {
   "cell_type": "code",
   "execution_count": 5,
   "id": "fb8e06e6-2e81-4571-bf9f-3200a68abf63",
   "metadata": {},
   "outputs": [],
   "source": [
    "def Send_the_Password():\n",
    "    global driver\n",
    "    global wait\n",
    "    try:\n",
    "        password_input = wait.until(EC.presence_of_element_located((By.NAME, \"Passwd\")))\n",
    "        print(\"Password input located.\")\n",
    "        password_input.clear()\n",
    "        password_input.send_keys(\"Your_Password\")# And Password\n",
    "        password_input.send_keys(Keys.ENTER)\n",
    "        print(\"Password entered.\")\n",
    "        time.sleep(5)\n",
    "    except Exception as e:\n",
    "        print(f\"An error occurred: {e}\")\n",
    "    finally:\n",
    "        print(\"Password_Enter_and_Send_Sucessfully\")\n"
   ]
  },
  {
   "cell_type": "markdown",
   "id": "802bff20-2ead-4427-be90-0f19b892f4e3",
   "metadata": {},
   "source": [
    "## Shift To Demo Account"
   ]
  },
  {
   "cell_type": "code",
   "execution_count": 6,
   "id": "98f12dea-6f66-4124-9d9d-dc978cd0ae39",
   "metadata": {},
   "outputs": [],
   "source": [
    "def Demo_Account():\n",
    "    global driver\n",
    "    global wait\n",
    "    try:\n",
    "        dropdown_button = wait.until(\n",
    "            EC.element_to_be_clickable((By.XPATH, \"//div[contains(@class, 'balance-info-block__arrow')]\"))\n",
    "        )\n",
    "        dropdown_button.click()\n",
    "        print(\"Dropdown button clicked!\")\n",
    "        # Step 9: Wait for the \"Quick Trading Demo\" button to be visible\n",
    "        quick_trade_demo_button = wait.until(\n",
    "            EC.element_to_be_clickable((By.XPATH, \"//div[contains(@class, 'balance-item__label') and text()='Quick Trading Demo']\"))\n",
    "        )\n",
    "        print(\"Quick Trading Demo button located.\")\n",
    "        quick_trade_demo_button.click()\n",
    "        print(\"Quick Trading Demo button clicked!\")\n",
    "        time.sleep(5)\n",
    "    except Exception as e:\n",
    "        print(f\"An error occurred: {e}\")\n",
    "    finally:\n",
    "        print(\"Shift To Demo Account Sucessfully\")\n"
   ]
  },
  {
   "cell_type": "markdown",
   "id": "27f3acbc-9e37-4098-bf78-28971d3548c9",
   "metadata": {},
   "source": [
    "## Buy "
   ]
  },
  {
   "cell_type": "code",
   "execution_count": 7,
   "id": "e2a8a524-64ab-4dff-b597-e3c7498c434e",
   "metadata": {},
   "outputs": [],
   "source": [
    "def Buy():\n",
    "    global driver\n",
    "    global wait\n",
    "    try:\n",
    "        buy_button = wait.until(\n",
    "           EC.element_to_be_clickable((By.XPATH, \"//span[contains(@class, 'switch-state-block__in')]//span[contains(text(), 'Buy')]\"))\n",
    "          )\n",
    "        print(\"Buy button located.\")\n",
    "        # Step 12: Click the \"Buy\" button\n",
    "        buy_button.click()\n",
    "        print(\"Buy button clicked!\")\n",
    "        time.sleep(5)\n",
    "    except Exception as e:\n",
    "        print(f\"An error occurred: {e}\")\n",
    "    finally:\n",
    "        print(\"Buy Button Clicked SucessFully\")\n"
   ]
  },
  {
   "cell_type": "markdown",
   "id": "b6439be8-0851-4e3f-99ad-b3725b0afe58",
   "metadata": {},
   "source": [
    "## Sell"
   ]
  },
  {
   "cell_type": "code",
   "execution_count": 8,
   "id": "2cc4f28d-6ace-488f-a719-75125b5f1363",
   "metadata": {},
   "outputs": [],
   "source": [
    "def Sell():\n",
    "    global driver\n",
    "    global wait\n",
    "    try:\n",
    "        sell_button = wait.until(\n",
    "           EC.element_to_be_clickable((By.XPATH, \"//span[contains(@class, 'switch-state-block__in')]//span[contains(text(), 'Sell')]\"))\n",
    "        )\n",
    "        print(\"Sell button located.\")\n",
    "        # Step 14: Click the \"Sell\" button\n",
    "        sell_button.click()\n",
    "        print(\"Sell button clicked!\")\n",
    "        time.sleep(5)\n",
    "    except Exception as e:\n",
    "        print(f\"An error occurred: {e}\")\n",
    "    finally:\n",
    "        print(\"Sell Button Clicked SucessFully\")\n"
   ]
  },
  {
   "cell_type": "markdown",
   "id": "a072f94d-0541-4907-b256-cf0a466de96d",
   "metadata": {},
   "source": [
    "## Type of Trade"
   ]
  },
  {
   "cell_type": "code",
   "execution_count": 9,
   "id": "db957e3d-4b02-4c98-98f8-3b04e3b0c3ee",
   "metadata": {},
   "outputs": [],
   "source": [
    "def Type_of_Trade():\n",
    "    global driver\n",
    "    global wait\n",
    "    try:\n",
    "        type_of_trade_button = wait.until(\n",
    "           EC.element_to_be_clickable((By.XPATH, \"//a[@class='pair-number-wrap']\"))\n",
    "        )\n",
    "        type_of_trade_button.click()\n",
    "        time.sleep(5)\n",
    "    except Exception as e:\n",
    "        print(f\"An error occurred: {e}\")\n",
    "    finally:\n",
    "        print(\"Type of Trade Button Clicked\")\n"
   ]
  },
  {
   "cell_type": "markdown",
   "id": "eeffab7d-21f4-419c-986c-b12b304dc225",
   "metadata": {},
   "source": [
    "## Stock"
   ]
  },
  {
   "cell_type": "code",
   "execution_count": 10,
   "id": "2b87986c-b4e6-4b50-85b0-c12ba9beb7ce",
   "metadata": {},
   "outputs": [],
   "source": [
    "def Stock(a):\n",
    "    global driver\n",
    "    global wait\n",
    "    try:\n",
    "        stock_button = wait.until(\n",
    "            EC.element_to_be_clickable((By.XPATH, \"//a[contains(@class, 'assets-block__nav-item--stock')]\"))\n",
    "        )\n",
    "        stock_button.click()\n",
    "        # Step 17: Iterate through the stock list, click each item, and stop after 13 stocks\n",
    "        stock_items = wait.until(\n",
    "            EC.presence_of_all_elements_located((By.XPATH, \"//ul[contains(@class, 'alist-stock')]//li/a\"))\n",
    "        )\n",
    "        # Limit the number of stocks to click\n",
    "        max_stocks_to_click = a\n",
    "        for i, stock in enumerate(stock_items):\n",
    "            if i >= max_stocks_to_click:\n",
    "                break\n",
    "            stock_name = stock.text.strip()\n",
    "            print(f\"Clicking on stock {i + 1}: {stock_name}\")\n",
    "            stock.click()\n",
    "            time.sleep(5)  # Wait for 5 seconds before moving to the next stock\n",
    "        time.sleep(5)\n",
    "    except Exception as e:\n",
    "        print(f\"An error occurred: {e}\")\n",
    "    finally:\n",
    "        print(\"Stock Selected\")\n"
   ]
  },
  {
   "cell_type": "markdown",
   "id": "767b94a9-4bdb-415f-a3b7-f327ff31c881",
   "metadata": {},
   "source": [
    "## Printing The Balance"
   ]
  },
  {
   "cell_type": "code",
   "execution_count": 11,
   "id": "cac031b5-dc27-442d-8fe3-c19212c69e91",
   "metadata": {},
   "outputs": [],
   "source": [
    "def Balance():\n",
    "    global driver\n",
    "    global wait\n",
    "    global balance\n",
    "    try:\n",
    "        balance_button = wait.until(\n",
    "            EC.presence_of_element_located((By.XPATH, \"//div[contains(@class, 'balance-info-block')]\"))\n",
    "        )\n",
    "        print(\"Balance button located.\")\n",
    "        # Step 19: Print the demo balance\n",
    "        demo_balance = balance_button.text.strip()\n",
    "        balance=demo_balance\n",
    "    except Exception as e:\n",
    "        print(f\"An error occurred: {e}\")\n",
    "    finally:\n",
    "        print(\"Balance_Selected\")\n"
   ]
  },
  {
   "cell_type": "markdown",
   "id": "5cb3023f-c6d4-4479-a9ff-31e3d8808939",
   "metadata": {},
   "source": [
    "## Curriencies"
   ]
  },
  {
   "cell_type": "code",
   "execution_count": 12,
   "id": "08f9e5a3-7fd6-4b7c-9ec5-e7871f25fabc",
   "metadata": {},
   "outputs": [],
   "source": [
    "def Curriencies(a):\n",
    "    global driver\n",
    "    global wait\n",
    "    try:\n",
    "        currencies_button = wait.until(\n",
    "        EC.element_to_be_clickable((By.XPATH,\"//a[contains(@class, 'assets-block__nav-item--currency')]\")))\n",
    "        currencies_button.click()\n",
    "        # Locate the list of currencies and iterate through the top 13\n",
    "        currency_items = wait.until(\n",
    "            EC.presence_of_all_elements_located((By.XPATH, \"//ul[contains(@class, 'alist-currency')]//li/a\"))\n",
    "        )\n",
    "        # Limit the number of currencies to click\n",
    "        max_currencies_to_click = a\n",
    "        for i, currency in enumerate(currency_items):\n",
    "            if i >= max_currencies_to_click:\n",
    "                break\n",
    "            currency_name = currency.text.strip()\n",
    "            print(f\"Clicking on currency {i + 1}: {currency_name}\")\n",
    "            currency.click()\n",
    "            time.sleep(5)  # Wait for 5 seconds before moving to the next currency\n",
    "        time.sleep(5)\n",
    "    except Exception as e:\n",
    "        print(f\"An error occurred: {e}\")\n",
    "    finally:\n",
    "        print(\"Curriencies Selected\")\n"
   ]
  },
  {
   "cell_type": "markdown",
   "id": "a2d3ad43-2282-4f20-a946-dcbc41b2939f",
   "metadata": {},
   "source": [
    "## CryptoCurriencies"
   ]
  },
  {
   "cell_type": "code",
   "execution_count": 13,
   "id": "78070cd2-3721-42dd-95c5-1558bddbaaa2",
   "metadata": {},
   "outputs": [],
   "source": [
    "def Crypto(a):\n",
    "    global driver\n",
    "    global wait\n",
    "    try:\n",
    "        crypto_button = wait.until(EC.element_to_be_clickable((By.XPATH,\"//a[contains(@class, 'assets-block__nav-item--cryptocurrency')]\")))\n",
    "        crypto_button.click()\n",
    "        # Locate the list of cryptocurrencies and iterate through the top 13\n",
    "        crypto_items = wait.until(EC.presence_of_all_elements_located((By.XPATH, \"//ul[contains(@class, 'alist-cryptocurrency')]//li/a\")))\n",
    "        max_crypto_to_click = a\n",
    "        for i, crypto in enumerate(crypto_items):\n",
    "            if i >= max_crypto_to_click:\n",
    "                break\n",
    "            crypto_name = crypto.text.strip()\n",
    "            print(f\"Clicking on cryptocurrency {i + 1}: {crypto_name}\")\n",
    "            crypto.click()\n",
    "            time.sleep(5)\n",
    "        time.sleep(5)\n",
    "    except Exception as e:\n",
    "        print(f\"An error occurred: {e}\")\n",
    "    finally:\n",
    "        print(\"Crypto Selected\")\n"
   ]
  },
  {
   "cell_type": "markdown",
   "id": "89636d6c-9f9f-4bd6-80f6-35866c877e9c",
   "metadata": {},
   "source": [
    "## Commodities"
   ]
  },
  {
   "cell_type": "code",
   "execution_count": 14,
   "id": "73c5010d-c212-4f9b-9447-8c1abb241eb6",
   "metadata": {},
   "outputs": [],
   "source": [
    "def Commodities(a):\n",
    "    global driver\n",
    "    global wait\n",
    "    try:\n",
    "        commodities_button = wait.until(EC.element_to_be_clickable((By.XPATH,\"//a[contains(@class, 'assets-block__nav-item--commodity')]\")))\n",
    "        commodities_button.click()\n",
    "        # Locate the list of commodities and iterate through the top 4\n",
    "        commodities_items = wait.until(EC.presence_of_all_elements_located((By.XPATH, \"//ul[contains(@class, 'alist-commodity')]//li/a\")))\n",
    "        max_commodities_to_click = a  # Adjusted to the top 4 commodities as specified\n",
    "        for i, commodity in enumerate(commodities_items):\n",
    "            if i >= max_commodities_to_click:\n",
    "                break\n",
    "            commodity_name = commodity.text.strip()\n",
    "            print(f\"Clicking on commodity {i + 1}: {commodity_name}\")\n",
    "            commodity.click()\n",
    "            time.sleep(5)\n",
    "        time.sleep(5)\n",
    "    except Exception as e:\n",
    "        print(f\"An error occurred: {e}\")\n",
    "    finally:\n",
    "        print(\"Commodities\")\n"
   ]
  },
  {
   "cell_type": "markdown",
   "id": "a2c3760f-5cfe-45c1-a519-1ee239e817f1",
   "metadata": {},
   "source": [
    "## Change Ammount"
   ]
  },
  {
   "cell_type": "code",
   "execution_count": 15,
   "id": "8070e622-c0b1-4b93-92da-5283ae5d68cd",
   "metadata": {},
   "outputs": [],
   "source": [
    "def Amount():\n",
    "    global driver\n",
    "    global wait\n",
    "    try:\n",
    "        change_amount_button = wait.until(EC.element_to_be_clickable((By.XPATH, \"//div[@class='block__control control']//input[@type='text']\")))\n",
    "        change_amount_button.clear()\n",
    "        change_amount_button.send_keys(\"10\")\n",
    "        time.sleep(5)\n",
    "    except Exception as e:\n",
    "        print(f\"An error occurred: {e}\")\n",
    "    finally:\n",
    "        print(\"Ammount_Set_Sucessfully\")\n"
   ]
  },
  {
   "cell_type": "markdown",
   "id": "9c200c5a-6723-4ceb-b447-76e72d6107d4",
   "metadata": {},
   "source": [
    "## Refresh"
   ]
  },
  {
   "cell_type": "code",
   "execution_count": 16,
   "id": "3c65c087-a682-45b8-a384-820b16ab8f32",
   "metadata": {},
   "outputs": [],
   "source": [
    "def Refresh():\n",
    "    global driver\n",
    "    global wait\n",
    "    try:\n",
    "        driver.refresh()\n",
    "        time.sleep(5)\n",
    "    except Exception as e:\n",
    "        print(f\"An error occurred: {e}\")\n",
    "    finally:\n",
    "        print(\"Refresh SucessFully\")\n"
   ]
  },
  {
   "cell_type": "markdown",
   "id": "fd9ac210-b3f4-4eb7-b8ba-6c1f9edfd863",
   "metadata": {},
   "source": [
    "## Real_Account"
   ]
  },
  {
   "cell_type": "code",
   "execution_count": 17,
   "id": "ecdf0028-df7a-4582-9e8c-7a4159847eec",
   "metadata": {},
   "outputs": [],
   "source": [
    "def Real_Account():\n",
    "    global driver\n",
    "    global wait\n",
    "    try:\n",
    "        dropdown_button = wait.until(EC.element_to_be_clickable((By.XPATH, \"//div[contains(@class, 'balance-info-block__arrow')]\")))\n",
    "        dropdown_button.click()\n",
    "        # Step 26: Locate the \"Quick Trading Real\" button and click it\n",
    "        quick_trade_real_button = wait.until(EC.element_to_be_clickable((By.XPATH, \"//div[contains(@class, 'balance-item__label') and text()='Quick Trading Real']\")))\n",
    "        quick_trade_real_button.click()\n",
    "    except Exception as e:\n",
    "        print(f\"An error occurred: {e}\")\n",
    "    finally:\n",
    "        print(\"Shifted To Real Account\")\n"
   ]
  },
  {
   "cell_type": "markdown",
   "id": "06931903-c2e6-4701-a8c5-631e7e07c823",
   "metadata": {},
   "source": [
    "## Time Remaing"
   ]
  },
  {
   "cell_type": "code",
   "execution_count": 18,
   "id": "fdcc8afc-9c73-438e-8dbc-887f9da5bc40",
   "metadata": {},
   "outputs": [],
   "source": [
    "def time_to_seconds(time_string):\n",
    "    try:\n",
    "        minutes, seconds = map(int, time_string.split(\":\"))\n",
    "        total_seconds = minutes * 60 + seconds\n",
    "        return total_seconds\n",
    "    except ValueError:\n",
    "        return 125\n",
    "def Time():\n",
    "    global driver\n",
    "    global wait\n",
    "    time=10\n",
    "    try:\n",
    "        # Wait for the time element to be present\n",
    "        time_element = wait.until(\n",
    "            EC.presence_of_element_located((By.XPATH, \"//div[@class='item-row']/div[2]\"))\n",
    "        )\n",
    "        action_time = time_element.text.strip()\n",
    "        time = time_to_seconds(action_time)\n",
    "        print(\"--------------------------\")\n",
    "        print(f\"Time : {action_time}\")\n",
    "        print(\"--------------------------\")\n",
    "    except Exception as e:\n",
    "        print(f\"An error occurred: {e}\")\n",
    "    finally:\n",
    "        print(\"Time_Displayed_Successfully\")\n",
    "        return time\n"
   ]
  },
  {
   "cell_type": "code",
   "execution_count": 19,
   "id": "c66e65af-82fd-4a40-b148-c2cf5063c4bf",
   "metadata": {},
   "outputs": [
    {
     "name": "stdout",
     "output_type": "stream",
     "text": [
      "An error occurred: name 'wait' is not defined\n",
      "Buy Button Clicked SucessFully\n"
     ]
    }
   ],
   "source": [
    "Buy()"
   ]
  },
  {
   "cell_type": "code",
   "execution_count": 20,
   "id": "69f5b77d-db31-4c26-bc3e-6191357a9bca",
   "metadata": {},
   "outputs": [],
   "source": [
    "#Open_page()\n",
    "#Locate_Button()\n",
    "#Fill_E_mail()\n",
    "#Send_the_Password()\n",
    "# Demo_Account()\n",
    "#Buy()\n",
    "#Time()\n",
    "# Sell()\n",
    "# Type_of_Trade()\n",
    "# Stock(8)\n",
    "# Balance()\n",
    "# print(balance)\n",
    "# Curriencies(8)\n",
    "# Crypto(8)\n",
    "# Commodities(4)\n",
    "# Amount()\n",
    "# Refresh()\n",
    "# Real_Account()"
   ]
  },
  {
   "cell_type": "code",
   "execution_count": 21,
   "id": "67cb7597-d7b4-42fd-83fa-e16290be9fd8",
   "metadata": {},
   "outputs": [],
   "source": [
    "import re\n",
    "import time\n",
    "def extract_balance(data: str) -> float:\n",
    "    match = re.search(r'[\\d,]+\\.\\d+', data)\n",
    "    if match:\n",
    "        balance_str = match.group()  \n",
    "        return float(balance_str.replace(',', ''))  \n",
    "    return None  \n",
    "def Model():\n",
    "    global balance\n",
    "    global Call\n",
    "    global DoTrade\n",
    "    P_L=0\n",
    "    ## balance is the global variable that contain that is update after the balance call\n",
    "    Balance()\n",
    "    balance_before=extract_balance(balance)\n",
    "    print(\"\\n\" * 1)\n",
    "    print(\"Balance in float...::\",balance_before)\n",
    "    k=0\n",
    "    while(1):\n",
    "        print(\"Iteration No.... :::\",k)\n",
    "        k=k+1\n",
    "        for i in range(3):\n",
    "            print(\"\\n\" * 1)\n",
    "            check=True\n",
    "            print(\"Buying .........................::: \",i)\n",
    "            Buy()\n",
    "            time.sleep(5)\n",
    "            time.sleep(Time()+5)\n",
    "            P_L = 0\n",
    "            Balance()\n",
    "            print(\"-------------------------------\")\n",
    "            time.sleep(5)\n",
    "            balance_after=extract_balance(balance)\n",
    "            P_L=balance_after - balance_before \n",
    "            print(\"Balance Before.....:::\",balance_before)\n",
    "            balance_before=balance_after\n",
    "            print(\"Balance After.....:::\",balance_after)\n",
    "            print(\"P_L----value ::: \",P_L)\n",
    "            if P_L < 0 :\n",
    "                DoTrade = False\n",
    "                break\n",
    "            elif i == 0 and P_L > 0:\n",
    "                Call = \"Buy\"\n",
    "                DoTrade = True\n",
    "                break\n",
    "            elif P_L > 0:\n",
    "                continue\n",
    "        if DoTrade == True:\n",
    "            break\n",
    "        for i in range(3):\n",
    "            print(\"\\n\" * 1)\n",
    "            check=True\n",
    "            print(\"Selling .........................::: \",i)\n",
    "            Sell()\n",
    "            time.sleep(5)\n",
    "            time.sleep(Time()+5)\n",
    "            P_L = 0\n",
    "            Balance()\n",
    "            print(\"-------------------------------\")\n",
    "            time.sleep(5)\n",
    "            balance_after=extract_balance(balance)\n",
    "            P_L=balance_after - balance_before \n",
    "            print(\"Balance Before.....:::\",balance_before)\n",
    "            balance_before=balance_after\n",
    "            print(\"Balance After.....:::\",balance_after)\n",
    "            print(\"P_L----value ::: \",P_L)\n",
    "            if P_L < 0 :\n",
    "                DoTrade = False\n",
    "                break\n",
    "            elif i == 0 and P_L > 0:\n",
    "                Call = \"Sell\"\n",
    "                DoTrade = True\n",
    "                break\n",
    "            elif P_L > 0:\n",
    "                continue\n",
    "        if DoTrade == True:\n",
    "            break"
   ]
  },
  {
   "cell_type": "code",
   "execution_count": null,
   "id": "fcbbd6db-97f0-4195-8709-e74a47c75f5a",
   "metadata": {},
   "outputs": [
    {
     "name": "stdout",
     "output_type": "stream",
     "text": [
      "Page is Opening ........\n",
      "Page successfully opened!\n",
      "Entering the Credentials ........\n",
      "Login with Google button located.\n",
      "Login with Google button clicked!\n",
      "Button_located_clicked_Sucessfully\n",
      "Email input located.\n",
      "Email entered.\n",
      "E_Mail_Enter_and_send_sucessfully\n",
      "Password input located.\n",
      "Password entered.\n",
      "Password_Enter_and_Send_Sucessfully\n",
      "Shifting To Demo .........\n",
      "Refresh SucessFully\n",
      "Dropdown button clicked!\n",
      "Quick Trading Demo button located.\n",
      "Quick Trading Demo button clicked!\n",
      "Shift To Demo Account Sucessfully\n",
      "Applying The Model ......\n",
      "Balance button located.\n",
      "Balance_Selected\n",
      "\n",
      "\n",
      "Balance in float...:: 50058.17\n",
      "Iteration No.... ::: 0\n",
      "\n",
      "\n",
      "Buying .........................:::  0\n",
      "Buy button located.\n",
      "Buy button clicked!\n",
      "Buy Button Clicked SucessFully\n",
      "--------------------------\n",
      "Time : 00:55\n",
      "--------------------------\n",
      "Time_Displayed_Successfully\n",
      "Balance button located.\n",
      "Balance_Selected\n",
      "-------------------------------\n",
      "Balance Before.....::: 50058.17\n",
      "Balance After.....::: 50057.17\n",
      "P_L----value :::  -1.0\n",
      "\n",
      "\n",
      "Selling .........................:::  0\n",
      "Sell button located.\n",
      "Sell button clicked!\n",
      "Sell Button Clicked SucessFully\n",
      "--------------------------\n",
      "Time : 01:40\n",
      "--------------------------\n",
      "Time_Displayed_Successfully\n",
      "Balance button located.\n",
      "Balance_Selected\n",
      "-------------------------------\n",
      "Balance Before.....::: 50057.17\n",
      "Balance After.....::: 50056.17\n",
      "P_L----value :::  -1.0\n",
      "Iteration No.... ::: 1\n",
      "\n",
      "\n",
      "Buying .........................:::  0\n",
      "Buy button located.\n",
      "Buy button clicked!\n",
      "Buy Button Clicked SucessFully\n",
      "An error occurred: Message: \n",
      "Stacktrace:\n",
      "\tGetHandleVerifier [0x00966FB3+25091]\n",
      "\t(No symbol) [0x008EE5D4]\n",
      "\t(No symbol) [0x007CB353]\n",
      "\t(No symbol) [0x0080F4BC]\n",
      "\t(No symbol) [0x0080F63B]\n",
      "\t(No symbol) [0x0084D8B2]\n",
      "\t(No symbol) [0x00831F24]\n",
      "\t(No symbol) [0x0084B46E]\n",
      "\t(No symbol) [0x00831C76]\n",
      "\t(No symbol) [0x00803185]\n",
      "\t(No symbol) [0x0080430D]\n",
      "\tGetHandleVerifier [0x00C5D5B3+3131395]\n",
      "\tGetHandleVerifier [0x00C6DDA4+3198964]\n",
      "\tGetHandleVerifier [0x00C68CC2+3178258]\n",
      "\tGetHandleVerifier [0x00A03290+664800]\n",
      "\t(No symbol) [0x008F744D]\n",
      "\t(No symbol) [0x008F4798]\n",
      "\t(No symbol) [0x008F4936]\n",
      "\t(No symbol) [0x008E7030]\n",
      "\tBaseThreadInitThunk [0x765C7BA9+25]\n",
      "\tRtlInitializeExceptionChain [0x7703C0CB+107]\n",
      "\tRtlClearBits [0x7703C04F+191]\n",
      "\n",
      "Time_Displayed_Successfully\n"
     ]
    }
   ],
   "source": [
    "import os \n",
    "import time\n",
    "count = 0 \n",
    "global DoTrade \n",
    "global Call \n",
    "DoTrade = False\n",
    "Call = \"None\"\n",
    "while 1:\n",
    "    if count == 0:\n",
    "        print(\"Page is Opening ........\")\n",
    "        time.sleep(2)\n",
    "        os.system('cls')\n",
    "        Open_page()\n",
    "        os.system('cls')\n",
    "        count=count+1\n",
    "    if count == 1:\n",
    "        print(\"Entering the Credentials ........\")\n",
    "        time.sleep(2)\n",
    "        Locate_Button()\n",
    "        Fill_E_mail()\n",
    "        Send_the_Password()\n",
    "        os.system('cls')\n",
    "        count = count + 1\n",
    "    if count == 2 :\n",
    "        print(\"Shifting To Demo .........\")\n",
    "        time.sleep(2)\n",
    "        Refresh()\n",
    "        Demo_Account()\n",
    "        os.system('cls')\n",
    "        count = 3\n",
    "    if DoTrade == False:\n",
    "        print(\"Applying The Model ......\")\n",
    "        time.sleep(2)\n",
    "        Model()\n",
    "        print(\"Model Call :: \",Call)\n",
    "        os.system('cls')\n",
    "    if DoTrade == True:\n",
    "        print(\"Doing Real Trade Shifting To Real Account .........\")\n",
    "        #Refresh()\n",
    "        # Change Demo To real Account to do trade\n",
    "        #Demo_Account()\n",
    "        os.system('cls')\n",
    "        if Call == \"Buy\":\n",
    "            print(\"Buy call by the Model\")\n",
    "            Buy()\n",
    "            time.sleep(Time()+5)\n",
    "            os.system('cls')\n",
    "            DoTrade=False\n",
    "            Call=\"None\"\n",
    "            count = 3\n",
    "        if Call == \"Sell\":\n",
    "            print(\"Buy sell call by the Model\")\n",
    "            Sell()\n",
    "            time.sleep(Time()+5)\n",
    "            os.system('cls')\n",
    "            DoTrade=False\n",
    "            Call=\"None\"\n",
    "            count = 3"
   ]
  },
  {
   "cell_type": "code",
   "execution_count": null,
   "id": "62cf4d47-5223-47c9-afb7-ee2b3ff2155b",
   "metadata": {},
   "outputs": [],
   "source": [
    "# print(\"choko\")\n",
    "# print(\"\\033[H\\033[3J\", end=\"\")"
   ]
  },
  {
   "cell_type": "code",
   "execution_count": null,
   "id": "bb689b88-fe09-4bf7-b20b-8c8abffeba0d",
   "metadata": {},
   "outputs": [],
   "source": [
    "# os.system(\"clear\")"
   ]
  },
  {
   "cell_type": "code",
   "execution_count": null,
   "id": "f50639c4-b417-4c59-9808-98970d9a42e2",
   "metadata": {},
   "outputs": [],
   "source": [
    "# os.system(\"clear\")"
   ]
  },
  {
   "cell_type": "code",
   "execution_count": null,
   "id": "291f1584-af0c-4cb6-8164-222d269765aa",
   "metadata": {},
   "outputs": [],
   "source": []
  }
 ],
 "metadata": {
  "kernelspec": {
   "display_name": "Python 3 (ipykernel)",
   "language": "python",
   "name": "python3"
  },
  "language_info": {
   "codemirror_mode": {
    "name": "ipython",
    "version": 3
   },
   "file_extension": ".py",
   "mimetype": "text/x-python",
   "name": "python",
   "nbconvert_exporter": "python",
   "pygments_lexer": "ipython3",
   "version": "3.12.7"
  }
 },
 "nbformat": 4,
 "nbformat_minor": 5
}
